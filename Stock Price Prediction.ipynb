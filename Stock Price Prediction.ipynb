{
 "cells": [
  {
   "cell_type": "code",
   "execution_count": 1,
   "id": "4d6c11e9-84b2-44e8-9d1b-a71414302b02",
   "metadata": {},
   "outputs": [
    {
     "ename": "ModuleNotFoundError",
     "evalue": "No module named 'tensorflow'",
     "output_type": "error",
     "traceback": [
      "\u001b[1;31m---------------------------------------------------------------------------\u001b[0m",
      "\u001b[1;31mModuleNotFoundError\u001b[0m                       Traceback (most recent call last)",
      "Cell \u001b[1;32mIn[1], line 6\u001b[0m\n\u001b[0;32m      4\u001b[0m \u001b[38;5;28;01mimport\u001b[39;00m \u001b[38;5;21;01mmatplotlib\u001b[39;00m\u001b[38;5;21;01m.\u001b[39;00m\u001b[38;5;21;01mpyplot\u001b[39;00m \u001b[38;5;28;01mas\u001b[39;00m \u001b[38;5;21;01mplt\u001b[39;00m\n\u001b[0;32m      5\u001b[0m \u001b[38;5;28;01mfrom\u001b[39;00m \u001b[38;5;21;01msklearn\u001b[39;00m\u001b[38;5;21;01m.\u001b[39;00m\u001b[38;5;21;01mpreprocessing\u001b[39;00m \u001b[38;5;28;01mimport\u001b[39;00m MinMaxScaler\n\u001b[1;32m----> 6\u001b[0m \u001b[38;5;28;01mfrom\u001b[39;00m \u001b[38;5;21;01mtensorflow\u001b[39;00m\u001b[38;5;21;01m.\u001b[39;00m\u001b[38;5;21;01mkeras\u001b[39;00m\u001b[38;5;21;01m.\u001b[39;00m\u001b[38;5;21;01mmodels\u001b[39;00m \u001b[38;5;28;01mimport\u001b[39;00m Sequential\n\u001b[0;32m      7\u001b[0m \u001b[38;5;28;01mfrom\u001b[39;00m \u001b[38;5;21;01mtensorflow\u001b[39;00m\u001b[38;5;21;01m.\u001b[39;00m\u001b[38;5;21;01mkeras\u001b[39;00m\u001b[38;5;21;01m.\u001b[39;00m\u001b[38;5;21;01mlayers\u001b[39;00m \u001b[38;5;28;01mimport\u001b[39;00m LSTM, Dense, Dropout\n",
      "\u001b[1;31mModuleNotFoundError\u001b[0m: No module named 'tensorflow'"
     ]
    }
   ],
   "source": [
    "# Step 1: Import Libraries\n",
    "import numpy as np\n",
    "import pandas as pd\n",
    "import matplotlib.pyplot as plt\n",
    "from sklearn.preprocessing import MinMaxScaler\n",
    "from tensorflow.keras.models import Sequential\n",
    "from tensorflow.keras.layers import LSTM, Dense, Dropout"
   ]
  },
  {
   "cell_type": "code",
   "execution_count": null,
   "id": "a9501dcc-6832-45aa-8329-fcca90a46738",
   "metadata": {},
   "outputs": [],
   "source": [
    "# Step 2: Load Dataset\n",
    "df = pd.read_csv('TATAMOTORS.csv')\n",
    "df = df[['Date', 'Close']]\n",
    "df['Date'] = pd.to_datetime(df['Date'])\n",
    "df.set_index('Date', inplace=True)\n",
    "df.sort_index(inplace=True)"
   ]
  },
  {
   "cell_type": "code",
   "execution_count": null,
   "id": "98ca5fe6-72a0-429d-a9ca-dff2569cfa74",
   "metadata": {},
   "outputs": [],
   "source": [
    "# Step 3: Visualize Closing Price\n",
    "plt.figure(figsize=(14, 6))\n",
    "plt.plot(df['Close'], label='TATA MOTORS Closing Price')\n",
    "plt.title('TATA MOTORS Stock Price History')\n",
    "plt.xlabel('Date')\n",
    "plt.ylabel('Price (INR)')\n",
    "plt.legend()\n",
    "plt.show()"
   ]
  },
  {
   "cell_type": "code",
   "execution_count": null,
   "id": "4db2f4b2-5352-45ce-81cc-f1348f73685b",
   "metadata": {},
   "outputs": [],
   "source": [
    "# Step 4: Preprocess Data\n",
    "scaler = MinMaxScaler(feature_range=(0, 1))\n",
    "scaled_data = scaler.fit_transform(df['Close'].values.reshape(-1, 1))\n",
    "\n",
    "# Creating training sequences\n",
    "prediction_days = 60\n",
    "X_train, y_train = [], []\n",
    "\n",
    "for i in range(prediction_days, len(scaled_data)):\n",
    "    X_train.append(scaled_data[i - prediction_days:i, 0])\n",
    "    y_train.append(scaled_data[i, 0])\n",
    "\n",
    "X_train, y_train = np.array(X_train), np.array(y_train)\n",
    "X_train = np.reshape(X_train, (X_train.shape[0], X_train.shape[1], 1))"
   ]
  },
  {
   "cell_type": "code",
   "execution_count": null,
   "id": "6547d1ab-4bf1-43aa-a30a-86b584d214d3",
   "metadata": {},
   "outputs": [],
   "source": [
    "# Step 5: Build the LSTM Model\n",
    "model = Sequential()\n",
    "model.add(LSTM(units=50, return_sequences=True, input_shape=(X_train.shape[1], 1)))\n",
    "model.add(Dropout(0.2))\n",
    "model.add(LSTM(units=50, return_sequences=False))\n",
    "model.add(Dropout(0.2))\n",
    "model.add(Dense(units=1))  # Predicted next closing price\n",
    "\n",
    "model.compile(optimizer='adam', loss='mean_squared_error')\n",
    "model.fit(X_train, y_train, epochs=25, batch_size=32)"
   ]
  },
  {
   "cell_type": "code",
   "execution_count": null,
   "id": "ba87db2a-3a18-4b95-9062-fefea5b530d6",
   "metadata": {},
   "outputs": [],
   "source": [
    "# Step 6: Test the Model (last 30 days)\n",
    "test_data = scaled_data[-(prediction_days + 30):]\n",
    "X_test = []\n",
    "\n",
    "for i in range(prediction_days, len(test_data)):\n",
    "    X_test.append(test_data[i - prediction_days:i, 0])\n",
    "\n",
    "X_test = np.array(X_test)\n",
    "X_test = np.reshape(X_test, (X_test.shape[0], X_test.shape[1], 1))\n",
    "predicted_prices = model.predict(X_test)\n",
    "predicted_prices = scaler.inverse_transform(predicted_prices)\n",
    "\n",
    "real_prices = df['Close'].values[-30:]"
   ]
  },
  {
   "cell_type": "code",
   "execution_count": null,
   "id": "94db4111-6ebe-4b87-88bd-189307e9a353",
   "metadata": {},
   "outputs": [],
   "source": [
    "# Step 7: Plot Results\n",
    "plt.figure(figsize=(14, 6))\n",
    "plt.plot(real_prices, color='black', label='Actual Price')\n",
    "plt.plot(predicted_prices, color='green', label='Predicted Price')\n",
    "plt.title('TATA MOTORS Stock Price Prediction')\n",
    "plt.xlabel('Time')\n",
    "plt.ylabel('Price (INR)')\n",
    "plt.legend()\n",
    "plt.show()"
   ]
  },
  {
   "cell_type": "code",
   "execution_count": 2,
   "id": "f85d0604-08e6-4a96-9fe6-aa6ab7731ef5",
   "metadata": {},
   "outputs": [
    {
     "ename": "NameError",
     "evalue": "name 'df' is not defined",
     "output_type": "error",
     "traceback": [
      "\u001b[1;31m---------------------------------------------------------------------------\u001b[0m",
      "\u001b[1;31mNameError\u001b[0m                                 Traceback (most recent call last)",
      "Cell \u001b[1;32mIn[2], line 2\u001b[0m\n\u001b[0;32m      1\u001b[0m \u001b[38;5;66;03m# Step 8: Predict Next Day Price\u001b[39;00m\n\u001b[1;32m----> 2\u001b[0m last_60_days \u001b[38;5;241m=\u001b[39m df[\u001b[38;5;124m'\u001b[39m\u001b[38;5;124mClose\u001b[39m\u001b[38;5;124m'\u001b[39m]\u001b[38;5;241m.\u001b[39mvalues[\u001b[38;5;241m-\u001b[39m\u001b[38;5;241m60\u001b[39m:]\n\u001b[0;32m      3\u001b[0m last_60_days_scaled \u001b[38;5;241m=\u001b[39m scaler\u001b[38;5;241m.\u001b[39mtransform(last_60_days\u001b[38;5;241m.\u001b[39mreshape(\u001b[38;5;241m-\u001b[39m\u001b[38;5;241m1\u001b[39m, \u001b[38;5;241m1\u001b[39m))\n\u001b[0;32m      4\u001b[0m X_future \u001b[38;5;241m=\u001b[39m [last_60_days_scaled]\n",
      "\u001b[1;31mNameError\u001b[0m: name 'df' is not defined"
     ]
    }
   ],
   "source": [
    "# Step 8: Predict Next Day Price\n",
    "last_60_days = df['Close'].values[-60:]\n",
    "last_60_days_scaled = scaler.transform(last_60_days.reshape(-1, 1))\n",
    "X_future = [last_60_days_scaled]\n",
    "X_future = np.array(X_future)\n",
    "X_future = np.reshape(X_future, (X_future.shape[0], X_future.shape[1], 1))\n",
    "future_price = model.predict(X_future)\n",
    "future_price = scaler.inverse_transform(future_price)\n",
    "\n",
    "print(f\"Predicted next day price: ₹{future_price[0][0]:.2f}\")"
   ]
  }
 ],
 "metadata": {
  "kernelspec": {
   "display_name": "Python 3 (ipykernel)",
   "language": "python",
   "name": "python3"
  },
  "language_info": {
   "codemirror_mode": {
    "name": "ipython",
    "version": 3
   },
   "file_extension": ".py",
   "mimetype": "text/x-python",
   "name": "python",
   "nbconvert_exporter": "python",
   "pygments_lexer": "ipython3",
   "version": "3.12.7"
  }
 },
 "nbformat": 4,
 "nbformat_minor": 5
}
